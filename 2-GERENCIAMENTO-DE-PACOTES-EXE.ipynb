{
 "cells": [
  {
   "cell_type": "markdown",
   "metadata": {
    "collapsed": true
   },
   "source": [
    "# GERENCIAMENTO DE PACOTES"
   ]
  },
  {
   "cell_type": "markdown",
   "metadata": {},
   "source": [
    "## LISTANTO PACOTES INSTALADOS"
   ]
  },
  {
   "cell_type": "code",
   "execution_count": 1,
   "metadata": {
    "scrolled": false
   },
   "outputs": [],
   "source": [
    "# Retorna o nomes dos pacotes e a versão instalada de cada pacote  Pkg.installed()"
   ]
  },
  {
   "cell_type": "markdown",
   "metadata": {},
   "source": [
    "## LISTA DE PACOTES DISPONÍVEIS NO REPOSITORIO OFICIAL"
   ]
  },
  {
   "cell_type": "code",
   "execution_count": null,
   "metadata": {
    "scrolled": false
   },
   "outputs": [],
   "source": []
  },
  {
   "cell_type": "markdown",
   "metadata": {},
   "source": [
    "## INSTALAÇÃO, ATUALIZAÇÃO E REMOÇÃO DE PACOTES"
   ]
  },
  {
   "cell_type": "markdown",
   "metadata": {},
   "source": [
    "**Atualiza a base de dados de pacotes ja instalados**"
   ]
  },
  {
   "cell_type": "code",
   "execution_count": 4,
   "metadata": {
    "scrolled": true
   },
   "outputs": [],
   "source": [
    "# Atualizar base de pacotes Pkg.update()"
   ]
  },
  {
   "cell_type": "markdown",
   "metadata": {},
   "source": [
    "**Instalado um novo pagote: Pkg.add(\"Nome do pacote\")**"
   ]
  },
  {
   "cell_type": "code",
   "execution_count": 6,
   "metadata": {},
   "outputs": [
    {
     "name": "stderr",
     "output_type": "stream",
     "text": [
      "\u001b[1m\u001b[34mINFO: Nothing to be done\n",
      "\u001b[0m"
     ]
    }
   ],
   "source": [
    "# Para instala, retire o # e execute\n",
    "\n",
    "#Pkg.add(\"SymPy\")\n",
    "#Pkg.add(\"Dates\")\n",
    "#Pkg.add(\"Roots\")\n",
    "#Pkg.add(\"PyPlot\")\n",
    "#Pkg.add(\"Plots\")\n",
    "#Pkg.add(\"DataFrames\")\n",
    "#Pkg.add(\"Calculus\")\n",
    "#Pkg.add(\"Interpolations\")\n",
    "#Pkg.add(\"Grid\")\n",
    "#Pkg.add(\"CurveFit\")\n",
    "#Pkg.add(\"LsqFit\")\n",
    "#Pkg.add(\"Interact\")\n",
    "#Pkg.add(\"Reactive\")\n",
    "#Pkg.add(\"Compat\")\n",
    "#Pkg.add(\"JSON\")\n",
    "#Pkg.add(\"PlotlyJS\")"
   ]
  },
  {
   "cell_type": "markdown",
   "metadata": {},
   "source": [
    "**Removendo um pacote Pkg.rm(\"pacote\")**"
   ]
  },
  {
   "cell_type": "code",
   "execution_count": null,
   "metadata": {},
   "outputs": [],
   "source": []
  },
  {
   "cell_type": "markdown",
   "metadata": {},
   "source": [
    "## INSTALAÇÃO DE PACOTES NÃO OFICIAIS \n",
    "\n",
    "Para instalar um pacote não oficial, basta usar o link do Github na forma: :\n",
    "```julia\n",
    "Pkg.clone(\"url/pacote.jl\")\n",
    "```\n",
    "Para instalar o NumericalMath, retire a # e execute"
   ]
  },
  {
   "cell_type": "code",
   "execution_count": null,
   "metadata": {
    "scrolled": true
   },
   "outputs": [],
   "source": []
  },
  {
   "cell_type": "markdown",
   "metadata": {},
   "source": [
    "Sempre Depois de instalar uma nova versão Julia, execute **Pkg.build (\"IJulia\")**, a fim de reconstruir o pacote iJulia com esta nova versão."
   ]
  },
  {
   "cell_type": "markdown",
   "metadata": {},
   "source": [
    "## UTILIZANDO UM PACOTE INSTALADO###"
   ]
  },
  {
   "cell_type": "code",
   "execution_count": 4,
   "metadata": {
    "scrolled": true
   },
   "outputs": [],
   "source": [
    "# using \"nome_do_pacote\" sem aspas e com letra inicial maiúscula"
   ]
  },
  {
   "cell_type": "markdown",
   "metadata": {},
   "source": []
  }
 ],
 "metadata": {
  "anaconda-cloud": {},
  "kernelspec": {
   "display_name": "Julia 0.6.2",
   "language": "julia",
   "name": "julia-0.6"
  },
  "language_info": {
   "file_extension": ".jl",
   "mimetype": "application/julia",
   "name": "julia",
   "version": "0.6.2"
  }
 },
 "nbformat": 4,
 "nbformat_minor": 1
}
