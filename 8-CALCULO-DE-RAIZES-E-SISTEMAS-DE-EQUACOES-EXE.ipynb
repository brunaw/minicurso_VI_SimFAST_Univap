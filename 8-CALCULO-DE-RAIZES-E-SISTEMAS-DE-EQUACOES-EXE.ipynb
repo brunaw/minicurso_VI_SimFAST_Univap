{
 "cells": [
  {
   "cell_type": "markdown",
   "metadata": {},
   "source": [
    "# CÁLCULO DE RAÍZES E SISTEMAS DE EQUAÇÕES E INEQUAÇÕES\n",
    "\n",
    "Alguns pacotes para encontrar raízes de equações:\n",
    "\n",
    "\n",
    "* **SymPy**: O pacote SymPy é uma biblioteca Python para matemática simbólica acessada via pacote PyCall e permite resolver equações e sistemas lineares. A função `solve()` permite resolver equações e sistemas lineares e `nsolve()` equações e sistemas não lineares. \n",
    "\n",
    " \n",
    "* **Roots**: Este pacote implementa métodos numéricos (Bissecção, Newton, Secante e Halley) para encontrar raízes de equações lineares e não lineares. A interface básica é através da função `fzero()`.\n",
    "\n",
    "\n",
    "* **Polynomials**: É um pacote exclusivo para manipulação de polinômios. Permite operações de aritmética básica, integração, diferenciação, avaliação e determinação de raizes em polinômios univariados densos.\n",
    "\n",
    "\n",
    "* **SunDials**: É um pacote para Julia que faz a interface para a biblioteca Sundials da biblioteca escrita em `C`. Apresenta uma ótima velocidade de cálculo e permite resolver integrais de EDO, sistemas não lineares e outros.\n",
    "\n",
    "\n",
    "* **NLsolve**: O pacote NLsolve resolve sistemas de equações não-lineares utilizando diversos algoritmos e métodos numericos."
   ]
  },
  {
   "cell_type": "markdown",
   "metadata": {},
   "source": [
    "## RAIZES DE UMA EQUAÇÃO "
   ]
  },
  {
   "cell_type": "markdown",
   "metadata": {},
   "source": [
    "### SOLUÇÃO SYMBÓLICA"
   ]
  },
  {
   "cell_type": "markdown",
   "metadata": {},
   "source": [
    "#### SYMPY\n",
    "\n",
    "Para calcular as raízes de uma equação algébrica ou transcendente* com apenas uma variável use a seguinte sintaxe:\n",
    "```julia\n",
    "solve(equação, var)\n",
    "```\n",
    "Sendo:\n",
    "- equação: equação algébrica expressa diretamente ou através de uma função genérica. Não funciona com função anônima.\n",
    "- var : incógnita da equação.\n",
    "\n",
    "A função retorna um vetor de dados simbólicos do tipo `SymPy.Sym`. Caso a função `solve()` retorne `[]` ou <span style=\"color:blue\">raises NotImplementedError</span>, isto significa que o método empregado pelo função `solve()` não conseguiu encontrar uma solução, porém ela poderá existir e será encontrada (caso exista em um dado intervalo) numericamente. \n",
    "\n",
    "    * nem todas é possível calcular, sendo então necessário uma solução numérica."
   ]
  },
  {
   "cell_type": "markdown",
   "metadata": {},
   "source": [
    "Equação de Gauss, ou equação dos pontos conjugados, relaciona a posição onde está o objeto ($p$) à frente de um espelho esférico, a posição da imagem formada ($p'$) e o foco do espelho (f): \n",
    "\n",
    "<img src=\"gauss.jpg\" width=\"400\" height=\"400\">\n",
    "\n",
    "\n",
    "Podemos resolver a equação de Gauss em relação à distância $p$ do objeto até o espelho."
   ]
  },
  {
   "cell_type": "code",
   "execution_count": 1,
   "metadata": {
    "scrolled": true
   },
   "outputs": [
    {
     "data": {
      "text/plain": [
       "(f, p_o, p_i, i, o)"
      ]
     },
     "execution_count": 1,
     "metadata": {},
     "output_type": "execute_result"
    }
   ],
   "source": [
    "using SymPy\n",
    "@syms f p_o p_i i o"
   ]
  },
  {
   "cell_type": "code",
   "execution_count": 2,
   "metadata": {},
   "outputs": [],
   "source": [
    "# sol_p_i recebe a solução da equação de Gauss\n"
   ]
  },
  {
   "cell_type": "code",
   "execution_count": 3,
   "metadata": {},
   "outputs": [],
   "source": [
    "# verificar o tipo de sol_p_i\n"
   ]
  },
  {
   "cell_type": "code",
   "execution_count": 4,
   "metadata": {},
   "outputs": [],
   "source": [
    "# testar para f = 10cm e p_o = 5cm\n"
   ]
  },
  {
   "cell_type": "markdown",
   "metadata": {},
   "source": [
    "Tamanho da imagem"
   ]
  },
  {
   "cell_type": "code",
   "execution_count": 5,
   "metadata": {},
   "outputs": [],
   "source": [
    "# sol_i recebe a solução do tamanho da imagem\n"
   ]
  },
  {
   "cell_type": "code",
   "execution_count": 6,
   "metadata": {},
   "outputs": [],
   "source": [
    "# testar i para p_i = -10cm, p_o = 5cm e o = 10cm\n"
   ]
  },
  {
   "cell_type": "markdown",
   "metadata": {},
   "source": [
    "**Gráfico da equação da distância da imagem ao espelho:**\n",
    "\n",
    "$  p_i = \\frac{fp_o}{f-p_o} $\n",
    "\n",
    "$f =$ 10cm\n",
    "\n",
    "$p_0$ de 1.0 até 50.0cm "
   ]
  },
  {
   "cell_type": "code",
   "execution_count": 7,
   "metadata": {},
   "outputs": [
    {
     "ename": "LoadError",
     "evalue": "\u001b[91mUndefVarError: sol_p_i not defined\u001b[39m",
     "output_type": "error",
     "traceback": [
      "\u001b[91mUndefVarError: sol_p_i not defined\u001b[39m",
      ""
     ]
    }
   ],
   "source": [
    "# gráfico mantendo o foco constante igual a 10cm\n",
    "using Plots\n",
    "gr()\n",
    "plot(1:0.4:50, sol_p_i[1](10).(1:0.4:50), \n",
    "    xlabel = \"distância objeto-espelho\",\n",
    "    ylabel = \"distância imagem-espelho\", \n",
    "    label = \"gráfico p_i\")"
   ]
  },
  {
   "cell_type": "markdown",
   "metadata": {},
   "source": [
    "**Gráfico da equação do tamanho da imagem:**\n",
    "\n",
    "$  i = - \\frac{op_i}{p_o} $\n",
    "\n",
    "$f =$ 10cm\n",
    "\n",
    "$o =$ 10cm\n",
    "\n",
    "$p_0$ de 1.0 até 50.0cm "
   ]
  },
  {
   "cell_type": "code",
   "execution_count": 8,
   "metadata": {},
   "outputs": [
    {
     "ename": "LoadError",
     "evalue": "\u001b[91mUndefVarError: sol_p_i not defined\u001b[39m",
     "output_type": "error",
     "traceback": [
      "\u001b[91mUndefVarError: sol_p_i not defined\u001b[39m",
      "",
      "Stacktrace:",
      " [1] \u001b[1m(::##1#2)\u001b[22m\u001b[22m\u001b[1m(\u001b[22m\u001b[22m::Float64, ::Float64\u001b[1m)\u001b[22m\u001b[22m at \u001b[1m./<missing>:0\u001b[22m\u001b[22m",
      " [2] \u001b[1mbroadcast_t\u001b[22m\u001b[22m\u001b[1m(\u001b[22m\u001b[22m::Function, ::Type{Any}, ::Tuple{Base.OneTo{Int64}}, ::CartesianRange{CartesianIndex{1}}, ::StepRangeLen{Float64,Base.TwicePrecision{Float64},Base.TwicePrecision{Float64}}, ::StepRangeLen{Float64,Base.TwicePrecision{Float64},Base.TwicePrecision{Float64}}\u001b[1m)\u001b[22m\u001b[22m at \u001b[1m./broadcast.jl:258\u001b[22m\u001b[22m",
      " [3] \u001b[1mbroadcast_c\u001b[22m\u001b[22m at \u001b[1m./broadcast.jl:321\u001b[22m\u001b[22m [inlined]",
      " [4] \u001b[1mbroadcast\u001b[22m\u001b[22m\u001b[1m(\u001b[22m\u001b[22m::Function, ::StepRangeLen{Float64,Base.TwicePrecision{Float64},Base.TwicePrecision{Float64}}, ::StepRangeLen{Float64,Base.TwicePrecision{Float64},Base.TwicePrecision{Float64}}\u001b[1m)\u001b[22m\u001b[22m at \u001b[1m./broadcast.jl:455\u001b[22m\u001b[22m"
     ]
    }
   ],
   "source": [
    "plot(1:0.4:50, sol_i[1].(sol_p_i[1](10).(1:0.4:50), 1:0.4:50, 10), \n",
    "    xlabel = \"distância objeto-espelho\",\n",
    "    ylabel = \"tamanho imagem\", \n",
    "    label = \"gráfico i\")"
   ]
  },
  {
   "cell_type": "markdown",
   "metadata": {},
   "source": [
    "### FUNÇÕES"
   ]
  },
  {
   "cell_type": "code",
   "execution_count": 9,
   "metadata": {},
   "outputs": [],
   "source": [
    "# denifir função f1 x^2 - 3*x -2\n"
   ]
  },
  {
   "cell_type": "code",
   "execution_count": 10,
   "metadata": {
    "scrolled": false
   },
   "outputs": [
    {
     "ename": "LoadError",
     "evalue": "\u001b[91mUndefVarError: f1 not defined\u001b[39m",
     "output_type": "error",
     "traceback": [
      "\u001b[91mUndefVarError: f1 not defined\u001b[39m",
      "",
      "Stacktrace:",
      " [1] \u001b[1m_collect\u001b[22m\u001b[22m\u001b[1m(\u001b[22m\u001b[22m::StepRangeLen{Float64,Base.TwicePrecision{Float64},Base.TwicePrecision{Float64}}, ::Base.Generator{StepRangeLen{Float64,Base.TwicePrecision{Float64},Base.TwicePrecision{Float64}},##3#4}, ::Base.EltypeUnknown, ::Base.HasShape\u001b[1m)\u001b[22m\u001b[22m at \u001b[1m./array.jl:488\u001b[22m\u001b[22m",
      " [2] \u001b[1mmap\u001b[22m\u001b[22m\u001b[1m(\u001b[22m\u001b[22m::Function, ::StepRangeLen{Float64,Base.TwicePrecision{Float64},Base.TwicePrecision{Float64}}\u001b[1m)\u001b[22m\u001b[22m at \u001b[1m./abstractarray.jl:1868\u001b[22m\u001b[22m",
      " [3] \u001b[1mcompute_xyz\u001b[22m\u001b[22m\u001b[1m(\u001b[22m\u001b[22m::StepRangeLen{Float64,Base.TwicePrecision{Float64},Base.TwicePrecision{Float64}}, ::Function, ::Void\u001b[1m)\u001b[22m\u001b[22m at \u001b[1m/home/jrun/.julia/v0.6/Plots/src/series.jl:96\u001b[22m\u001b[22m",
      " [4] \u001b[1mmacro expansion\u001b[22m\u001b[22m at \u001b[1m/home/jrun/.julia/v0.6/Plots/src/series.jl:161\u001b[22m\u001b[22m [inlined]",
      " [5] \u001b[1mapply_recipe\u001b[22m\u001b[22m\u001b[1m(\u001b[22m\u001b[22m::Dict{Symbol,Any}, ::Type{Plots.SliceIt}, ::StepRangeLen{Float64,Base.TwicePrecision{Float64},Base.TwicePrecision{Float64}}, ::Function, ::Void\u001b[1m)\u001b[22m\u001b[22m at \u001b[1m/////////mnt/juliabox/.julia/v0.6/RecipesBase/src/RecipesBase.jl:291\u001b[22m\u001b[22m",
      " [6] \u001b[1m_process_userrecipes\u001b[22m\u001b[22m\u001b[1m(\u001b[22m\u001b[22m::Plots.Plot{Plots.GRBackend}, ::Dict{Symbol,Any}, ::Tuple{StepRangeLen{Float64,Base.TwicePrecision{Float64},Base.TwicePrecision{Float64}},##3#4}\u001b[1m)\u001b[22m\u001b[22m at \u001b[1m/home/jrun/.julia/v0.6/Plots/src/pipeline.jl:81\u001b[22m\u001b[22m",
      " [7] \u001b[1m_plot!\u001b[22m\u001b[22m\u001b[1m(\u001b[22m\u001b[22m::Plots.Plot{Plots.GRBackend}, ::Dict{Symbol,Any}, ::Tuple{StepRangeLen{Float64,Base.TwicePrecision{Float64},Base.TwicePrecision{Float64}},##3#4}\u001b[1m)\u001b[22m\u001b[22m at \u001b[1m/home/jrun/.julia/v0.6/Plots/src/plot.jl:179\u001b[22m\u001b[22m",
      " [8] \u001b[1m#plot#202\u001b[22m\u001b[22m\u001b[1m(\u001b[22m\u001b[22m::Array{Any,1}, ::Function, ::StepRangeLen{Float64,Base.TwicePrecision{Float64},Base.TwicePrecision{Float64}}, ::Vararg{Any,N} where N\u001b[1m)\u001b[22m\u001b[22m at \u001b[1m/home/jrun/.julia/v0.6/Plots/src/plot.jl:58\u001b[22m\u001b[22m",
      " [9] \u001b[1m(::RecipesBase.#kw##plot)\u001b[22m\u001b[22m\u001b[1m(\u001b[22m\u001b[22m::Array{Any,1}, ::RecipesBase.#plot, ::StepRangeLen{Float64,Base.TwicePrecision{Float64},Base.TwicePrecision{Float64}}, ::Function, ::Vararg{Function,N} where N\u001b[1m)\u001b[22m\u001b[22m at \u001b[1m./<missing>:0\u001b[22m\u001b[22m"
     ]
    }
   ],
   "source": [
    "using Plots\n",
    "gr()\n",
    "\n",
    "plot(-5:0.1:5, x -> f1, label = \"equação\", size = (400, 300),\n",
    "    xaxis = (\"x\",  -5:1:10),\n",
    "    yaxis = (\"y\", -5:5:40))\n",
    "plot!(-5:0.1:5, zero, label = \"reta zero\")"
   ]
  },
  {
   "cell_type": "code",
   "execution_count": 11,
   "metadata": {},
   "outputs": [],
   "source": [
    "# importar SymPy e variável x\n"
   ]
  },
  {
   "cell_type": "markdown",
   "metadata": {},
   "source": [
    "De acordo com o gráfico, podemos observar que temos 2 raízes, sendo a primeira $x \\thickapprox -0.5$ e segunda $x \\thickapprox 3.5$. "
   ]
  },
  {
   "cell_type": "code",
   "execution_count": 12,
   "metadata": {
    "scrolled": false
   },
   "outputs": [],
   "source": [
    "# solução f1(x)\n"
   ]
  },
  {
   "cell_type": "markdown",
   "metadata": {},
   "source": [
    "O resultado é do tipo simbólico, logo é interessante vincular o resultado a duas variáveis $x_1$ e $x_2$ do tipo float."
   ]
  },
  {
   "cell_type": "code",
   "execution_count": 13,
   "metadata": {
    "scrolled": true
   },
   "outputs": [],
   "source": [
    "# x1 e x2 recebem o resultado de x^2 - 3*x -2 do tipo float\n"
   ]
  },
  {
   "cell_type": "code",
   "execution_count": 14,
   "metadata": {
    "scrolled": true
   },
   "outputs": [
    {
     "ename": "LoadError",
     "evalue": "\u001b[91mUndefVarError: x1 not defined\u001b[39m",
     "output_type": "error",
     "traceback": [
      "\u001b[91mUndefVarError: x1 not defined\u001b[39m",
      ""
     ]
    }
   ],
   "source": [
    "using Plots\n",
    "gr()\n",
    "\n",
    "plot(-5:0.1:5, x -> x^2 - 3*x - 2, label = \"equação\", \n",
    "    xaxis = (\"x\",  -5:1:10),\n",
    "    yaxis = (\"y\", -5:5:40))\n",
    "plot!(-5:0.1:5, zero, label = \"reta zero\")\n",
    "scatter!([x1, x2], [0, 0], label  = \"raízes\", size = (400, 300) )"
   ]
  },
  {
   "cell_type": "markdown",
   "metadata": {},
   "source": [
    "### SOLUÇÃO NUMÉRICA"
   ]
  },
  {
   "cell_type": "markdown",
   "metadata": {},
   "source": [
    "#### SYMPY"
   ]
  },
  {
   "cell_type": "markdown",
   "metadata": {},
   "source": [
    "A função `nsolve()` permite usar métodos de aproximação numérica para encontrar raízes de equações não lineares. Sintaxe:\n",
    "```julia\n",
    "nsolve(equação, xi) \n",
    "```\n",
    "Sendo:\n",
    "* `equação`: equação algébrica expressa diretamente ou através de uma função genérica ou anônima.\n",
    "* `xi`: valor estimado da raiz.\n",
    "\n",
    "A função `nsolve()` retorna um valor do tipo `BigFloat`."
   ]
  },
  {
   "cell_type": "code",
   "execution_count": 15,
   "metadata": {},
   "outputs": [
    {
     "data": {
      "text/plain": [
       "(x,)"
      ]
     },
     "execution_count": 15,
     "metadata": {},
     "output_type": "execute_result"
    }
   ],
   "source": [
    "using SymPy\n",
    "@syms x"
   ]
  },
  {
   "cell_type": "code",
   "execution_count": 16,
   "metadata": {
    "scrolled": true
   },
   "outputs": [],
   "source": [
    "#importar SymPy e variável x\n"
   ]
  },
  {
   "cell_type": "code",
   "execution_count": 17,
   "metadata": {
    "scrolled": false
   },
   "outputs": [],
   "source": [
    "# definir a função genérica fnl(x)  x*cos(x) + sin(x + 1) \n"
   ]
  },
  {
   "cell_type": "code",
   "execution_count": 18,
   "metadata": {
    "scrolled": false
   },
   "outputs": [
    {
     "ename": "LoadError",
     "evalue": "\u001b[91mUndefVarError: fnl not defined\u001b[39m",
     "output_type": "error",
     "traceback": [
      "\u001b[91mUndefVarError: fnl not defined\u001b[39m",
      ""
     ]
    }
   ],
   "source": [
    "# Gráfico\n",
    "using Plots\n",
    "gr()\n",
    "\n",
    "plot(0:0.1:20, fnl, xlabel = \"x\", ylabel = \"y\", label = \"função\", \n",
    "    xaxis = (\"x\",  0:1:20),\n",
    "    yaxis = (\"y\", -20:5:20))\n",
    "plot!(0:0.1:20, zero, label = \"zero\")"
   ]
  },
  {
   "cell_type": "markdown",
   "metadata": {},
   "source": [
    "A função retorna um valor do tipo `BigFloat` que é muito grande para a maioria das aplicações."
   ]
  },
  {
   "cell_type": "code",
   "execution_count": 19,
   "metadata": {
    "scrolled": false
   },
   "outputs": [],
   "source": [
    "# definir as raízes raiz1, raiz2 e raiz3 para os pontos 2,5,7 com flag prec = 10\n",
    "# use @show \n"
   ]
  },
  {
   "cell_type": "code",
   "execution_count": 20,
   "metadata": {
    "scrolled": false
   },
   "outputs": [],
   "source": [
    "#Testando. Veja que o resultado é bem próximo de zero.\n"
   ]
  },
  {
   "cell_type": "markdown",
   "metadata": {},
   "source": [
    "### ROOTS\n",
    "\n",
    "Este pacote contém rotinas para encontrar raízes de uma equação de uma incógnita real definidas por uma função genérica.\n",
    "\n",
    "Sintaxe:\n",
    "```julia\n",
    "fzero(funcao_variável, xi)\n",
    "```\n",
    "Sendo:\n",
    "* equação: equação expressa através de uma função genérica ou anônima. \n",
    "* xi: valor estimado da raiz.\n",
    "\n",
    "Obs: use `verbose = true` para mostrar informações sobre o algotimo utilizado. Também é possível passar um método específico como argumento (Bisection(), FalsePosition(), entre outros). A função `fzero()` não calcula as raízes de expressões passadas como argumento. Ocorrerá erro caso seja executado  `fzero(x^2 -2*x, 1)`. O pacote `Roots` não funciona com expressões simbólicas."
   ]
  },
  {
   "cell_type": "code",
   "execution_count": 21,
   "metadata": {},
   "outputs": [],
   "source": [
    "# importar Roots\n"
   ]
  },
  {
   "cell_type": "code",
   "execution_count": 22,
   "metadata": {
    "scrolled": false
   },
   "outputs": [],
   "source": [
    "# definir a função genérica fnl(x)  x*cos(x) + sin(x + 1)  \n"
   ]
  },
  {
   "cell_type": "code",
   "execution_count": 23,
   "metadata": {},
   "outputs": [
    {
     "ename": "LoadError",
     "evalue": "\u001b[91mUndefVarError: fnl not defined\u001b[39m",
     "output_type": "error",
     "traceback": [
      "\u001b[91mUndefVarError: fnl not defined\u001b[39m",
      ""
     ]
    }
   ],
   "source": [
    "using Plots\n",
    "gr()\n",
    "\n",
    "plot(0:0.1:20, fnl, xlabel = \"x\", ylabel = \"y\", label = \"função\", \n",
    "    xaxis = (\"x\",  0:1:20),\n",
    "    yaxis = (\"y\", -20:5:20))\n",
    "plot!(0:0.1:20, zero, label = \"zero\")"
   ]
  },
  {
   "cell_type": "code",
   "execution_count": 24,
   "metadata": {},
   "outputs": [],
   "source": [
    "# raiz1R receve o resultado da função fzero() de fnl no ponto inicial 2\n"
   ]
  },
  {
   "cell_type": "code",
   "execution_count": 25,
   "metadata": {
    "scrolled": false
   },
   "outputs": [],
   "source": [
    "# mais detalhes sobre o processo com verbose=true\n"
   ]
  },
  {
   "cell_type": "markdown",
   "metadata": {},
   "source": [
    "**Raízes dentro uma faixa de valores**\n",
    "\n",
    "o pacote `Roots` utiliza a função `fzeros(função, x1, xn)`."
   ]
  },
  {
   "cell_type": "code",
   "execution_count": 26,
   "metadata": {
    "scrolled": true
   },
   "outputs": [],
   "source": [
    "# usar fzeros para calcula as raízes entre 0 e 20\n"
   ]
  },
  {
   "cell_type": "markdown",
   "metadata": {
    "scrolled": true
   },
   "source": [
    "### POLYNOMIALS\n",
    "\n",
    "O pacote $Polinomials$ resolve polinômios na forma $a_nx^{n} + a_{n-1}x^{n-1} + a_{n-2}x^{n-2} +...+a_0$ utilizando um vetor como termos do polinômio."
   ]
  },
  {
   "cell_type": "markdown",
   "metadata": {},
   "source": [
    "```julia\n",
    "polinômio = Poly([A1, A2, A3, ... , An])\n",
    "```\n",
    "\n",
    "```julia\n",
    "roots(polinômio)\n",
    "```\n",
    "Sendo:\n",
    "\n",
    "* [A1, A2, A3, ... , An]: o vetor de termos $a_n$ do polinômio.\n",
    "\n",
    "É importante observar que o SymPy também importa uma função `Poly()`, logo sempre que o pacote $SymPy$ for importado é necessário a sintaxe `Polynomials.Poly(vetor)` para definir um polinômio."
   ]
  },
  {
   "cell_type": "code",
   "execution_count": 27,
   "metadata": {},
   "outputs": [],
   "source": [
    "# Importar Polinomials\n"
   ]
  },
  {
   "cell_type": "code",
   "execution_count": 28,
   "metadata": {
    "scrolled": true
   },
   "outputs": [],
   "source": [
    "# raiz do polinômio x^2 + 0*x -1\n"
   ]
  },
  {
   "cell_type": "markdown",
   "metadata": {},
   "source": [
    "Esta forma de calcular raízes é útil quando temos polinômios grandes "
   ]
  },
  {
   "cell_type": "markdown",
   "metadata": {
    "collapsed": true
   },
   "source": [
    "## SISTEMAS DE EQUAÇÕES LINEARES E NÃO LINEARES "
   ]
  },
  {
   "cell_type": "markdown",
   "metadata": {},
   "source": [
    "### SISTEMAS DE EQUAÇÕES LINEARES \n",
    "\n",
    "Dado o sistema abaixo:\n",
    "\n",
    "${\\begin{cases}\n",
    "& 2x + 3y - 6 ~~ = 0 \\\\ \n",
    "& 3x - 4y - 12 = 0 \n",
    "\\end{cases}}$\n",
    "\n",
    "Calcular as raízes"
   ]
  },
  {
   "cell_type": "code",
   "execution_count": 29,
   "metadata": {},
   "outputs": [],
   "source": [
    "# Sistema de equações definido pelas funções genéricas \n",
    "# eql_1 = 2*x + 3*y - 6 e eql_2 = 3*x - 4*y - 12\n"
   ]
  },
  {
   "cell_type": "markdown",
   "metadata": {},
   "source": [
    "### SYMPY"
   ]
  },
  {
   "cell_type": "markdown",
   "metadata": {},
   "source": [
    "A função `solve()` . Sintaxe:\n",
    "```julia\n",
    "solve([equação_1(var_1, var_2...var_n) , ..., equação_n(var_nvar_2...var_n)] , [var_1,...,var_n])\n",
    "```\n",
    "Sendo:\n",
    "* `equação_1 , ..., equação_n`: Equações algébricas expressas diretamente ou através de funções genéricas. Não funciona com função anônima.\n",
    "* `var_1, ..., var_n`: Incógnitas das equações.\n",
    "\n",
    "A função `solve()` retorna um dicionário de dados simbólicos do tipo `SymPy.Sym`."
   ]
  },
  {
   "cell_type": "code",
   "execution_count": 30,
   "metadata": {},
   "outputs": [],
   "source": [
    "# importar sympy e criar as variáveis simbólicas x e y\n"
   ]
  },
  {
   "cell_type": "code",
   "execution_count": 31,
   "metadata": {
    "scrolled": true
   },
   "outputs": [],
   "source": [
    "# sol_sys recebe o resultado de eql_1 e eql_2\n"
   ]
  },
  {
   "cell_type": "code",
   "execution_count": 32,
   "metadata": {},
   "outputs": [],
   "source": [
    "# verificar o tipo de sol_sys\n"
   ]
  },
  {
   "cell_type": "markdown",
   "metadata": {},
   "source": [
    "O SymPy retorna o resultado `Dict{SymPy.Sym,SymPy.Sym}`. É interessante tranformar os dados em `Float` para manipulá-los. "
   ]
  },
  {
   "cell_type": "code",
   "execution_count": 33,
   "metadata": {},
   "outputs": [],
   "source": [
    "# x1 e x2 recebem o resultado do tipo float do sistema\n"
   ]
  },
  {
   "cell_type": "markdown",
   "metadata": {},
   "source": [
    "### SISTEMAS DE EQUAÇÕES NÃO LINEARES"
   ]
  },
  {
   "cell_type": "markdown",
   "metadata": {},
   "source": [
    "Dado o sistema abaixo:\n",
    "\n",
    "${\\begin{cases}\n",
    "& xy -2x ~~~~~~~~~ = 0 \\\\ \n",
    "&- x^2 + 8y -2 = 0 \n",
    "\\end{cases}}$"
   ]
  },
  {
   "cell_type": "code",
   "execution_count": 34,
   "metadata": {},
   "outputs": [],
   "source": [
    "# Funções eqnl_1 = 3*x + cos(y)  - 5 e eqnl_2 = -sin(x) + y - 2\n"
   ]
  },
  {
   "cell_type": "markdown",
   "metadata": {},
   "source": [
    "### SYMPY\n",
    "\n",
    "\n",
    "Sintaxe: \n",
    "```julia\n",
    "nsolve([eq_1(var_1...var_n),..., eq_n(var_1...var(n)], [var_1,..., var_n], [valor_var_1,..., valor_var_n])\n",
    "```\n",
    "Sendo: \n",
    "* [eq_1 , ..., eq_n]: vetor das equações algébricas expressas diretamente ou através de funções genéricas. Não funciona com funções anônimas.\n",
    "* [var_1, ..., var_n]: vetor das incógnitas das equações. \n",
    "* [valor_var_1,..., valor_var_n]: vetor de valores aproximados das raízes.\n",
    "\n",
    "A função `nsolve()` retorna um dicionário de dados simbólicos do tipo `SymPy.Sym`."
   ]
  },
  {
   "cell_type": "code",
   "execution_count": 35,
   "metadata": {
    "scrolled": true
   },
   "outputs": [],
   "source": [
    "# use sol_nlsys para receber o resultado do sistema\n"
   ]
  },
  {
   "cell_type": "code",
   "execution_count": 36,
   "metadata": {},
   "outputs": [],
   "source": [
    "# verificar o tipo de sol_nlsys\n"
   ]
  },
  {
   "cell_type": "code",
   "execution_count": 37,
   "metadata": {},
   "outputs": [],
   "source": [
    "# Acessar somente o primeiro valor\n"
   ]
  },
  {
   "cell_type": "code",
   "execution_count": null,
   "metadata": {},
   "outputs": [],
   "source": []
  }
 ],
 "metadata": {
  "anaconda-cloud": {},
  "kernelspec": {
   "display_name": "Julia 0.6.2",
   "language": "julia",
   "name": "julia-0.6"
  },
  "language_info": {
   "file_extension": ".jl",
   "mimetype": "application/julia",
   "name": "julia",
   "version": "0.6.2"
  }
 },
 "nbformat": 4,
 "nbformat_minor": 1
}
